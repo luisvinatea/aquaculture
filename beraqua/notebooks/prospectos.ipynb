{
 "cells": [
  {
   "cell_type": "code",
   "execution_count": 26,
   "metadata": {},
   "outputs": [
    {
     "name": "stdout",
     "output_type": "stream",
     "text": [
      "        fecha  dia  mes   año           ruc  \\\n",
      "0  2023-12-31   31   12  2023  992838795001   \n",
      "1  2023-12-31   31   12  2023  992838795001   \n",
      "2  2023-12-31   31   12  2023  990033110001   \n",
      "3  2023-12-30   30   12  2023  190152928001   \n",
      "4  2023-12-30   30   12  2023  990608504001   \n",
      "\n",
      "                                 probable_exportador pais_de_destino  \\\n",
      "0  procesadora_y_exportadora_de_camaron_procamaro...           china   \n",
      "1  procesadora_y_exportadora_de_camaron_procamaro...           china   \n",
      "2                sociedad_nacional_de_galapagos_c.a.           china   \n",
      "3                        costecua_express_cia._ltda.   united_states   \n",
      "4  operadora_y_procesadora_de_productos_marinos_o...          france   \n",
      "\n",
      "      descripcion_producto_comercial  cantidad   us$_fob  us$_fob_unitario  \\\n",
      "0                  camaron_congelado  26000.00  300000.0             11.54   \n",
      "1                  camaron_congelado  26000.00  300000.0             11.54   \n",
      "2                  camaron_congelado  27109.04  102600.0              3.78   \n",
      "3  cangrejo_camaron_pescado_albacora      1.00      10.0             10.00   \n",
      "4                  camaron_congelado  20942.95  300000.0             14.32   \n",
      "\n",
      "   peso_neto  \n",
      "0   18200.00  \n",
      "1   18200.00  \n",
      "2   22800.00  \n",
      "3       6.35  \n",
      "4   19140.00  \n",
      "            fecha  dia  mes   año           ruc  \\\n",
      "77325  2023-01-03    3    1  2023  791716535001   \n",
      "77326  2023-01-03    3    1  2023  791716535001   \n",
      "77327  2023-01-03    3    1  2023  791716535001   \n",
      "77328  2023-01-03    3    1  2023  791716535001   \n",
      "77329  2023-01-02    2    1  2023  991295437001   \n",
      "\n",
      "                 probable_exportador pais_de_destino  \\\n",
      "77325  pcc_congelados_&_frescos_s.a.           china   \n",
      "77326  pcc_congelados_&_frescos_s.a.           china   \n",
      "77327  pcc_congelados_&_frescos_s.a.           china   \n",
      "77328  pcc_congelados_&_frescos_s.a.           china   \n",
      "77329                     gisis_s.a.          panama   \n",
      "\n",
      "                          descripcion_producto_comercial  cantidad    us$_fob  \\\n",
      "77325                                  camaron_congelado   25676.0   74264.40   \n",
      "77326                                  camaron_congelado   25600.0   85120.00   \n",
      "77327                                  camaron_congelado   10270.4   31116.96   \n",
      "77328                                  camaron_congelado   10270.4   31046.40   \n",
      "77329  optiline_35_19_alimento_balanceado_para_camarones  105870.0  129912.64   \n",
      "\n",
      "       us$_fob_unitario  peso_neto  \n",
      "77325              2.89    17640.0  \n",
      "77326              3.33    22400.0  \n",
      "77327              3.03     7056.0  \n",
      "77328              3.02     7056.0  \n",
      "77329              1.23   104000.0  \n",
      "fecha                              object\n",
      "dia                                 int64\n",
      "mes                                 int64\n",
      "año                                 int64\n",
      "ruc                                 int64\n",
      "probable_exportador                object\n",
      "pais_de_destino                    object\n",
      "descripcion_producto_comercial     object\n",
      "cantidad                          float64\n",
      "us$_fob                           float64\n",
      "us$_fob_unitario                  float64\n",
      "peso_neto                         float64\n",
      "dtype: object\n",
      "fecha                             0\n",
      "dia                               0\n",
      "mes                               0\n",
      "año                               0\n",
      "ruc                               0\n",
      "probable_exportador               0\n",
      "pais_de_destino                   0\n",
      "descripcion_producto_comercial    0\n",
      "cantidad                          0\n",
      "us$_fob                           0\n",
      "us$_fob_unitario                  0\n",
      "peso_neto                         0\n",
      "dtype: int64\n"
     ]
    }
   ],
   "source": [
    "import pandas as pd\n",
    "import numpy as np\n",
    "\n",
    "df_leads = pd.read_csv(\"/home/luisvinatea/Data/Gdrive/aquaculture/beraqua/processed/prospectos_exportadores/prospectos_2023.csv\")\n",
    "\n",
    "# Verify the loaded data\n",
    "print(df_leads.head())\n",
    "print(df_leads.tail())\n",
    "print(df_leads.dtypes)\n",
    "print(df_leads.isnull().sum())\n"
   ]
  },
  {
   "cell_type": "code",
   "execution_count": 27,
   "metadata": {},
   "outputs": [
    {
     "name": "stdout",
     "output_type": "stream",
     "text": [
      "fecha                             0\n",
      "ruc                               0\n",
      "probable_exportador               0\n",
      "pais_de_destino                   0\n",
      "descripcion_producto_comercial    0\n",
      "cantidad                          0\n",
      "us$_fob                           0\n",
      "us$_fob_unitario                  0\n",
      "peso_neto                         0\n",
      "dtype: int64\n"
     ]
    }
   ],
   "source": [
    "# List of columns to drop\n",
    "columns_to_drop = [\"DEPOSITO COMERCIAL\", \"CODIGO DE LIBERACION\", \"CONTAINER\", \"FECHA DE EMBARQUE\", \n",
    "                   \"FECHA DE LLEGADA\", \"FECHA PAGO\", \"FACTURA\", \"DAU\", \"BULTOS\", \"NUMERO DE MANIFIESTO\", \n",
    "                   \"FECHA DE LIQUIDACIóN\", \"FECHA AFORO\", \"INCOTERM\", \"NUMERO DE CARGA FINAL\", \"FECHA DE SALIDA DE ALMACEN\", \"FECHA SALIDA\", \"TOTAL AJUSTES\", \"PUERTO DESEMBARQUE\", \"TOTAL OTROS AJUSTES\", \"VIA DE TRANSPORTE\", \"DESCRIPCION ARANCELARIA\", \"ESTADO MERCANCIA\", \"PROBABLE CONSIGNATARIO\", \"EMPRESA DE TRANSPORTE\", \"CUSTOMS AGENT\", \"AGENCIA DE CARGA\", \"NAVE\", \"NUMERO MANIFIESTO\", \"CONOCIMIENTO DE EMBARQUE\", \"DIRECCIóN CONSIGNATARIO\",\"FECHA INGRESO SISTEMA\", \"REGIMEN ADUANERO\", \"REFRENDO\", \"ITEM\", \"UNIDAD DE MEDIDA\", \"ADUANA\", \"TIPO AFORO\", \"PARTIDA ARANCELARIA\", \"FECHA AFORO\", \"dia\", \"mes\", \"año\"]\n",
    "\n",
    "# Check which columns exist in df_leads\n",
    "columns_to_drop_existing = [col for col in columns_to_drop if col in df_leads.columns]\n",
    "\n",
    "# Drop only the existing columns\n",
    "df_leads = df_leads.drop(columns=columns_to_drop_existing)\n",
    "\n",
    "# Verify the changes\n",
    "print(df_leads.isnull().sum())\n",
    "\n"
   ]
  },
  {
   "cell_type": "code",
   "execution_count": 13,
   "metadata": {},
   "outputs": [
    {
     "name": "stdout",
     "output_type": "stream",
     "text": [
      "fecha                             0\n",
      "ruc                               0\n",
      "probable_exportador               0\n",
      "pais_de_destino                   0\n",
      "descripcion_producto_comercial    0\n",
      "cantidad                          0\n",
      "us$_fob                           0\n",
      "peso_neto                         0\n",
      "us$_fob_unitario                  1\n",
      "dtype: int64\n"
     ]
    }
   ],
   "source": [
    "# Replace missing values with NaN\n",
    "df_leads = df_leads.fillna(np.nan)\n",
    "\n",
    "# Verify the changes\n",
    "print(df_leads.isnull().sum())\n"
   ]
  },
  {
   "cell_type": "code",
   "execution_count": 14,
   "metadata": {},
   "outputs": [
    {
     "name": "stdout",
     "output_type": "stream",
     "text": [
      "fecha                             0\n",
      "ruc                               0\n",
      "probable_exportador               0\n",
      "pais_de_destino                   0\n",
      "descripcion_producto_comercial    0\n",
      "cantidad                          0\n",
      "us$_fob                           0\n",
      "peso_neto                         0\n",
      "us$_fob_unitario                  0\n",
      "dtype: int64\n"
     ]
    }
   ],
   "source": [
    "# List of columns to fill with 'generico' or 'desconocido'\n",
    "columns_with_default_values = {\n",
    "    'MARCA COMERCIAL': 'generico',\n",
    "    'MARCA': 'generico',\n",
    "    'NAVE': 'desconocido',\n",
    "    'EMBARCADOR': 'desconocido',\n",
    "    'PROBABLE EXPORTADOR': 'desconocido',\n",
    "    'EMPRESA DE TRANSPORTE': 'desconocido',\n",
    "    'PROBABLE IMPORTADOR': 'desconocido',\n",
    "    'PAIS DE EMBARQUE': 'desconocido',\n",
    "    'PAIS DE PROCEDENCIA': 'desconocido',\n",
    "    'DESCRIPCION ARANCELARIA': 'desconocido',\n",
    "    'DESCRIPCIóN ARANCELARIA': 'desconocido',\n",
    "    'VIA DE TRANSPORTE': 'desconocido',\n",
    "    'CIUDAD EMBARQUE': 'desconocido',\n",
    "    'CONOCIMIENTO EMBARQUE': 'desconocido',\n",
    "    'TIPO AFORO': 'desconocido',\n",
    "    'DIRECCIóN CONSIGNATARIO': 'desconocido',\n",
    "    'AGENCIA DE CARGA': 'desconocido',\n",
    "    'CARACTERISTICAS': 'desconocido',\n",
    "    'PRODUCTO': 'generico',\n",
    "    'AñO FABRICACIóN': 'desconocido',\n",
    "    'MODELO MERCADERIA': 'generico',\n",
    "    'PAíS DE EMBARQUE' : 'desconocido'\n",
    "}\n",
    "\n",
    "# Loop through the dictionary and fill NaN values with the corresponding default value if the column exists\n",
    "for column, default_value in columns_with_default_values.items():\n",
    "    if column in df_leads.columns:\n",
    "        df_leads[column] = df_leads[column].fillna(default_value)\n",
    "\n",
    "# Fill missing numeric columns with the mean (if the column exists)\n",
    "numeric_columns_to_fill = ['ADVALOREM', 'US$ FOB UNIT', 'us$_fob_unitario']\n",
    "for column in numeric_columns_to_fill:\n",
    "    if column in df_leads.columns:\n",
    "        df_leads[column] = df_leads[column].fillna(df_leads[column].mean())\n",
    "\n",
    "# Verify the changes\n",
    "print(df_leads.isnull().sum())\n"
   ]
  },
  {
   "cell_type": "code",
   "execution_count": 44,
   "metadata": {},
   "outputs": [
    {
     "name": "stdout",
     "output_type": "stream",
     "text": [
      "   dia  mes   año            ruc  \\\n",
      "0   17    1  2023  1791959043001   \n",
      "1   16    1  2023   991250913001   \n",
      "2    9    1  2023  1791959043001   \n",
      "3    4    1  2023  1791959043001   \n",
      "4   31    1  2023   992911956001   \n",
      "\n",
      "                            probable_exportador pais_de_destino  \\\n",
      "0          entregas_especiales_espentregas_s.a.   united_states   \n",
      "1                               surexpress_s.a.   united_states   \n",
      "2          entregas_especiales_espentregas_s.a.   united_states   \n",
      "3          entregas_especiales_espentregas_s.a.   united_states   \n",
      "4  exportadora_total_seafood_totalseafood_s._a.           china   \n",
      "\n",
      "                      descripcion_producto_comercial  cantidad    us$_fob  \\\n",
      "0                               muestra_de_camarones       1.0       1.10   \n",
      "1  pescado,_camaron,_concha,cangrejo_y_calamar_,_...       2.0      20.00   \n",
      "2                               muestra_de_camarones       2.0       2.15   \n",
      "3                muestra_de_atun_congelado_y_camaron       2.0       2.10   \n",
      "4                                  camaron_congelado   26442.0  114660.00   \n",
      "\n",
      "   us$_fob_unitario  peso_neto  \n",
      "0              1.10       4.90  \n",
      "1             10.00       3.69  \n",
      "2              1.07       4.60  \n",
      "3              1.05       3.80  \n",
      "4              4.34   23400.00  \n"
     ]
    }
   ],
   "source": [
    "# Convert column names to lowercase and replace spaces with underscores (snake_case)\n",
    "df_leads.columns = df_leads.columns.str.lower().str.replace(' ', '_')\n",
    "\n",
    "# Convert string data to lowercase and replace spaces with underscores (snake_case)\n",
    "df_leads = df_leads.map(lambda x: x.lower().replace(' ', '_') if isinstance(x, str) else x)\n",
    "\n",
    "# Verify the changes\n",
    "print(df_leads.head())\n",
    "\n"
   ]
  },
  {
   "cell_type": "code",
   "execution_count": null,
   "metadata": {},
   "outputs": [],
   "source": [
    "columns_to_inspect = [\"marca\", \"marca_comercial\", \"modelo_mercaderia\"]\n",
    "\n",
    "# Loop through the specified columns and display unique values\n",
    "for column in columns_to_inspect:\n",
    "    print(f\"Column: {column}\")\n",
    "    print(f\"Unique values count: {df_leads[column].nunique()}\")\n",
    "    print(f\"Unique values: {df_leads[column].unique()}\")\n",
    "    print(\"-\" * 50)\n"
   ]
  },
  {
   "cell_type": "code",
   "execution_count": null,
   "metadata": {},
   "outputs": [],
   "source": [
    "# Define the mappings for the 'marca' column\n",
    "marca_mapping = {\n",
    "    'sin_marca': 'generico',\n",
    "    'sweetwater-baldor': 'sweetwater',\n",
    "    's_m': 'generico',\n",
    "    'seetwater_baldor': 'sweetwater',\n",
    "    '380v_60hz': 'generico',\n",
    "    'kasco': 'kasko',\n",
    "    'madam_trading': 'maofmadan',\n",
    "    'pionner': 'pioneer',\n",
    "    'rf020648315cn': 'generico',\n",
    "    'rf014981436cn': 'generico',\n",
    "    'maof-madan': 'maofmadan',\n",
    "    'pioneer_group': 'pioneer',\n",
    "    'pioneer_gruop': 'pioneer',\n",
    "    'sin_modelo': 'generico',\n",
    "    'aireadores_para_alimentar_animales': 'generico',\n",
    "    'baldor': 'sweetwater',\n",
    "    'oo03217825pec': 'generico',\n",
    "    'aeration' : 'sun_asia_aeration',\n",
    "    'sweetwater_baldor' : 'sweetwater',\n",
    "    'sun_asia_aeration_intl_co_ltd' : 'sun_asia_aeration',\n",
    "    '03706291835': 'generico',\n",
    "    '0' : 'generico',\n",
    "    'sm' : 'generico',\n",
    "    '6159762685' : 'generico',\n",
    "    's/m' : 'generico',\n",
    "    'smarca' : 'generico',\n",
    "    's/marca' : 'generico',\n",
    "    'sin_maca' : 'generico',\n",
    "    'sn' : 'generico',\n",
    "    'madan' : 'maofmadan',\n",
    "    'sin_model' : 'generico',\n",
    "    'sin_modelo' : 'generico',\n",
    "    'smodelo' : 'generico',\n",
    "    's/modelo' : 'generico',\n",
    "    'sin_modelo,' : 'generico',\n",
    "    's/n' : 'generico',\n",
    "    'aquapa' : 'beraqua',\n",
    "    'n/m' : 'generico',\n",
    "    's-m' : 'generico',\n",
    "    's-n' : 'generico',\n",
    "    'sinmarca' : 'generico',\n",
    "    'nm' : 'generico',\n",
    "    'sin_marca_comercial' : 'generico',\n",
    "    'mv' : 'generico',\n",
    "    'n-m' : 'generico'\n",
    "}\n",
    "\n",
    "# Apply the mapping to the 'marca' column\n",
    "df_leads['marca'] = df_leads['marca'].replace(marca_mapping)\n",
    "df_leads['marca_comercial'] = df_leads['marca_comercial'].replace(marca_mapping)\n",
    "df_leads['modelo_mercaderia'] = df_leads['modelo_mercaderia'].replace(marca_mapping)\n",
    "\n",
    "# Verify the changes\n",
    "print(df_leads['marca'].unique())\n",
    "print(df_leads['marca_comercial'].unique())\n",
    "print(df_leads['modelo_mercaderia'].unique())\n"
   ]
  },
  {
   "cell_type": "code",
   "execution_count": 2,
   "metadata": {},
   "outputs": [
    {
     "name": "stdout",
     "output_type": "stream",
     "text": [
      "         fecha           ruc                      probable_exportador  \\\n",
      "0   2017-10-31  990533652001                               estar_c.a.   \n",
      "110 2017-10-31  990533652001                               estar_c.a.   \n",
      "93  2017-10-31  991257721001  industrial_pesquera_santa_priscila_s.a.   \n",
      "94  2017-10-31  991257721001  industrial_pesquera_santa_priscila_s.a.   \n",
      "95  2017-10-31  991257721001  industrial_pesquera_santa_priscila_s.a.   \n",
      "\n",
      "    pais_de_destino  descripcion_producto_comercial  cantidad    us$_fob  \\\n",
      "0     united_states  camaron_cola_congelado_quirola  10592.24   79685.67   \n",
      "110   united_states  camaron_cola_congelado_quality   9812.34   79002.50   \n",
      "93          vietnam   camarones_entero_y_cola_10-20  24383.33  280250.00   \n",
      "94          vietnam   camarones_entero_y_cola_20-30   3850.00   42750.00   \n",
      "95          vietnam   camarones_entero_y_cola_30-40   2566.67   27000.00   \n",
      "\n",
      "     peso_neto  us$_fob_unitario  \n",
      "0      9129.49          7.523023  \n",
      "110    8459.61          8.051341  \n",
      "93    19000.00         11.493508  \n",
      "94     3000.00         11.103896  \n",
      "95     2000.00         10.519467  \n",
      "           fecha           ruc                      probable_exportador  \\\n",
      "43110 2017-01-03  992575778001                           pescardeg_s.a.   \n",
      "43109 2017-01-03  991257721001  industrial_pesquera_santa_priscila_s.a.   \n",
      "43108 2017-01-03  991257721001  industrial_pesquera_santa_priscila_s.a.   \n",
      "43107 2017-01-03  991257721001  industrial_pesquera_santa_priscila_s.a.   \n",
      "43197 2017-01-03  791756359001                              exorban_s_a   \n",
      "\n",
      "      pais_de_destino descripcion_producto_comercial  cantidad  us$_fob  \\\n",
      "43110   united_states             camaron_de_piscina      1.13      4.0   \n",
      "43109   united_states                 camaron_fresco    544.00  24500.0   \n",
      "43108   united_states              camaron_congelado    544.00   3500.0   \n",
      "43107   united_states                 camaron_fresco    544.00  24500.0   \n",
      "43197          france                 camaron_entero   9900.00  45900.0   \n",
      "\n",
      "       peso_neto  us$_fob_unitario  \n",
      "43110       0.37          3.539823  \n",
      "43109     453.60         45.036765  \n",
      "43108     453.59          6.433824  \n",
      "43107     453.60         45.036765  \n",
      "43197    9000.00          4.636364  \n"
     ]
    }
   ],
   "source": [
    "# Create the 'fecha' column by merging 'DIA', 'MES', and 'AÑO'\n",
    "df_leads['fecha'] = pd.to_datetime(df_leads[['año', 'mes', 'dia']].astype(str).agg('-'.join, axis=1), format='%Y-%m-%d')\n",
    "\n",
    "# Reorder columns so 'fecha' is the first column\n",
    "columns_order = ['fecha'] + [col for col in df_leads.columns if col != 'fecha']\n",
    "df_leads = df_leads[columns_order]\n",
    "\n",
    "# Sort the DataFrame by 'fecha' in descending order (most recent to oldest)\n",
    "df_leads = df_leads.sort_values(by='fecha', ascending=False)\n",
    "\n",
    "# Drop the 'dia', 'mes', 'año' columns\n",
    "df_clean = df_leads.drop(columns=['dia', 'mes', 'año'])\n",
    "\n",
    "# Verify the changes\n",
    "print(df_clean.head())\n",
    "print(df_clean.tail())\n"
   ]
  },
  {
   "cell_type": "code",
   "execution_count": 9,
   "metadata": {},
   "outputs": [
    {
     "name": "stdout",
     "output_type": "stream",
     "text": [
      "Index(['fecha', 'ruc', 'probable_exportador', 'pais_de_destino',\n",
      "       'descripcion_producto_comercial', 'cantidad', 'us$_fob', 'peso_neto',\n",
      "       'us$_fob_unitario'],\n",
      "      dtype='object')\n"
     ]
    }
   ],
   "source": [
    "print(df_clean.columns)\n"
   ]
  },
  {
   "cell_type": "code",
   "execution_count": 28,
   "metadata": {},
   "outputs": [
    {
     "name": "stdout",
     "output_type": "stream",
     "text": [
      "File saved successfully.\n"
     ]
    }
   ],
   "source": [
    "# Save the df_clean DataFrame as a CSV file\n",
    "df_leads.to_csv('/home/luisvinatea/Data/Gdrive/aquaculture/beraqua/processed/prospectos_exportadores/prospectos_2023.csv', index=False)\n",
    "\n",
    "print(\"File saved successfully.\")\n",
    "\n"
   ]
  }
 ],
 "metadata": {
  "kernelspec": {
   "display_name": "data-analysis",
   "language": "python",
   "name": "python3"
  },
  "language_info": {
   "codemirror_mode": {
    "name": "ipython",
    "version": 3
   },
   "file_extension": ".py",
   "mimetype": "text/x-python",
   "name": "python",
   "nbconvert_exporter": "python",
   "pygments_lexer": "ipython3",
   "version": "3.12.7"
  }
 },
 "nbformat": 4,
 "nbformat_minor": 2
}
