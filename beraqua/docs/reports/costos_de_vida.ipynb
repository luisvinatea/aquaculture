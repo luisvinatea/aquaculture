{
 "cells": [
  {
   "cell_type": "code",
   "execution_count": null,
   "metadata": {},
   "outputs": [],
   "source": [
    "import matplotlib.pyplot as plt\n",
    "import numpy as np\n",
    "\n",
    "# Data for comparison\n",
    "models = [\"Beraqua B-309\", \"Pioneer SAA-308\", \"Pioneer PA-308\"]\n",
    "costs = [2167.79, 2463.60, 2625.63]  # Annual Equipment Cost\n",
    "savings_vs_saa308 = [295.81, 0, 0]  # Cost savings compared to Pioneer SAA-308\n",
    "savings_vs_pa308 = [457.84, 0, 0]  # Cost savings compared to Pioneer PA-308\n",
    "\n",
    "# Create the plot\n",
    "x = np.arange(len(models))\n",
    "width = 0.35\n",
    "\n",
    "fig, ax = plt.subplots(figsize=(10, 6))\n",
    "bars1 = ax.bar(x - width/2, costs, width, label='Annual Equipment Cost ($)')\n",
    "bars2 = ax.bar(x + width/2, savings_vs_saa308, width, label='Savings vs SAA-308 ($)')\n",
    "bars3 = ax.bar(x + width/2, savings_vs_pa308, width, bottom=savings_vs_saa308, label='Savings vs PA-308 ($)')\n",
    "\n",
    "# Add labels and title\n",
    "ax.set_xlabel('Aerator Model')\n",
    "ax.set_ylabel('Cost / Savings ($)')\n",
    "ax.set_title('Cost Comparison and Savings by Aerator Model')\n",
    "ax.set_xticks(x)\n",
    "ax.set_xticklabels(models)\n",
    "ax.legend()\n",
    "\n",
    "# Adding values on top of bars for better readability\n",
    "def autolabel(bars):\n",
    "    for bar in bars:\n",
    "        height = bar.get_height()\n",
    "        ax.annotate(f'${height:.2f}',\n",
    "                    xy=(bar.get_x() + bar.get_width() / 2, height),\n",
    "                    xytext=(0, 3),  # Offset text slightly above bar\n",
    "                    textcoords=\"offset points\",\n",
    "                    ha='center', va='bottom')\n",
    "\n",
    "# Apply labels to bars\n",
    "autolabel(bars1)\n",
    "autolabel(bars2)\n",
    "autolabel(bars3)\n",
    "\n",
    "plt.tight_layout()\n",
    "plt.show()\n"
   ]
  }
 ],
 "metadata": {
  "kernelspec": {
   "display_name": "Python 3",
   "language": "python",
   "name": "python3"
  },
  "language_info": {
   "name": "python",
   "version": "3.12.7"
  }
 },
 "nbformat": 4,
 "nbformat_minor": 2
}
